{
 "cells": [
  {
   "cell_type": "markdown",
   "id": "249cb044-2eb4-4566-8ca9-2d2f44df3e6a",
   "metadata": {},
   "source": [
    "# 6.6 Sourcing and Analyzing Time Series Data\n",
    "\n",
    "## Importing librairies, path and data\n",
    "\n",
    "## Data wrangling for OECD members dataframe\n",
    "\n",
    "## Time series analysis (not working)\n",
    "\n",
    "## Testing for stationarity\n",
    "\n",
    "## Stationarizing the population of the OECD\n",
    "\n",
    "## Answers to the questions"
   ]
  },
  {
   "cell_type": "markdown",
   "id": "e49d7521-7eb2-4cb5-9bc3-82ecb6502707",
   "metadata": {},
   "source": [
    "## Importing librairies, path and data"
   ]
  },
  {
   "cell_type": "code",
   "execution_count": 88,
   "id": "0724b69a-212e-4ad4-a67e-90237e31b994",
   "metadata": {},
   "outputs": [],
   "source": [
    "import quandl\n",
    "import pandas as pd\n",
    "import numpy as np\n",
    "import seaborn as sns\n",
    "import matplotlib\n",
    "import matplotlib.pyplot as plt\n",
    "import statsmodels.api as sm # Using .api imports the public access version of statsmodels, which is a library that handles \n",
    "# statistical models.\n",
    "import os\n",
    "import warnings # This is a library that handles warnings.\n",
    "\n",
    "warnings.filterwarnings(\"ignore\") # Disable deprecation warnings that could indicate, for instance, a suspended library or \n",
    "# feature. These are more relevant to developers and very seldom to analysts.\n",
    "\n",
    "plt.style.use('fivethirtyeight') # This is a styling option for how your plots will appear."
   ]
  },
  {
   "cell_type": "code",
   "execution_count": 90,
   "id": "b41e6af1-2e6a-4598-9165-3de867dfd5de",
   "metadata": {},
   "outputs": [],
   "source": [
    "# Defining the path \n",
    "path = r'C:\\Users\\salmi\\Desktop\\achievement 6'"
   ]
  },
  {
   "cell_type": "code",
   "execution_count": 92,
   "id": "e74b98df-c5f6-4d51-8c02-8953a39f98e3",
   "metadata": {},
   "outputs": [],
   "source": [
    "# Uploading dataset from the World Bank for the total population between 1960 to 2023\n",
    "world_pop_for_ts = pd.read_csv(os.path.join(path, 'Data sets','Original Data Happiness', 'world_pop_for_time_series.csv' ), index_col = False)"
   ]
  },
  {
   "cell_type": "code",
   "execution_count": 94,
   "id": "2fde72a2-f941-4464-8ad2-1885d8b1083c",
   "metadata": {},
   "outputs": [
    {
     "data": {
      "text/html": [
       "<div>\n",
       "<style scoped>\n",
       "    .dataframe tbody tr th:only-of-type {\n",
       "        vertical-align: middle;\n",
       "    }\n",
       "\n",
       "    .dataframe tbody tr th {\n",
       "        vertical-align: top;\n",
       "    }\n",
       "\n",
       "    .dataframe thead th {\n",
       "        text-align: right;\n",
       "    }\n",
       "</style>\n",
       "<table border=\"1\" class=\"dataframe\">\n",
       "  <thead>\n",
       "    <tr style=\"text-align: right;\">\n",
       "      <th></th>\n",
       "      <th>Country Name</th>\n",
       "      <th>1960</th>\n",
       "      <th>1961</th>\n",
       "      <th>1962</th>\n",
       "      <th>1963</th>\n",
       "      <th>1964</th>\n",
       "      <th>1965</th>\n",
       "      <th>1966</th>\n",
       "      <th>1967</th>\n",
       "      <th>1968</th>\n",
       "      <th>...</th>\n",
       "      <th>2014</th>\n",
       "      <th>2015</th>\n",
       "      <th>2016</th>\n",
       "      <th>2017</th>\n",
       "      <th>2018</th>\n",
       "      <th>2019</th>\n",
       "      <th>2020</th>\n",
       "      <th>2021</th>\n",
       "      <th>2022</th>\n",
       "      <th>2023</th>\n",
       "    </tr>\n",
       "  </thead>\n",
       "  <tbody>\n",
       "    <tr>\n",
       "      <th>0</th>\n",
       "      <td>Aruba</td>\n",
       "      <td>54608.0</td>\n",
       "      <td>55811.0</td>\n",
       "      <td>56682.0</td>\n",
       "      <td>57475.0</td>\n",
       "      <td>58178.0</td>\n",
       "      <td>58782.0</td>\n",
       "      <td>59291.0</td>\n",
       "      <td>59522.0</td>\n",
       "      <td>59471.0</td>\n",
       "      <td>...</td>\n",
       "      <td>103594</td>\n",
       "      <td>104257</td>\n",
       "      <td>104874</td>\n",
       "      <td>105439</td>\n",
       "      <td>105962</td>\n",
       "      <td>106442</td>\n",
       "      <td>106585</td>\n",
       "      <td>106537</td>\n",
       "      <td>106445</td>\n",
       "      <td>106277</td>\n",
       "    </tr>\n",
       "    <tr>\n",
       "      <th>1</th>\n",
       "      <td>Africa Eastern and Southern</td>\n",
       "      <td>130692579.0</td>\n",
       "      <td>134169237.0</td>\n",
       "      <td>137835590.0</td>\n",
       "      <td>141630546.0</td>\n",
       "      <td>145605995.0</td>\n",
       "      <td>149742351.0</td>\n",
       "      <td>153955516.0</td>\n",
       "      <td>158313235.0</td>\n",
       "      <td>162875171.0</td>\n",
       "      <td>...</td>\n",
       "      <td>583651101</td>\n",
       "      <td>600008424</td>\n",
       "      <td>616377605</td>\n",
       "      <td>632746570</td>\n",
       "      <td>649757148</td>\n",
       "      <td>667242986</td>\n",
       "      <td>685112979</td>\n",
       "      <td>702977106</td>\n",
       "      <td>720859132</td>\n",
       "      <td>739108306</td>\n",
       "    </tr>\n",
       "    <tr>\n",
       "      <th>2</th>\n",
       "      <td>Afghanistan</td>\n",
       "      <td>8622466.0</td>\n",
       "      <td>8790140.0</td>\n",
       "      <td>8969047.0</td>\n",
       "      <td>9157465.0</td>\n",
       "      <td>9355514.0</td>\n",
       "      <td>9565147.0</td>\n",
       "      <td>9783147.0</td>\n",
       "      <td>10010030.0</td>\n",
       "      <td>10247780.0</td>\n",
       "      <td>...</td>\n",
       "      <td>32716210</td>\n",
       "      <td>33753499</td>\n",
       "      <td>34636207</td>\n",
       "      <td>35643418</td>\n",
       "      <td>36686784</td>\n",
       "      <td>37769499</td>\n",
       "      <td>38972230</td>\n",
       "      <td>40099462</td>\n",
       "      <td>41128771</td>\n",
       "      <td>42239854</td>\n",
       "    </tr>\n",
       "    <tr>\n",
       "      <th>3</th>\n",
       "      <td>Africa Western and Central</td>\n",
       "      <td>97256290.0</td>\n",
       "      <td>99314028.0</td>\n",
       "      <td>101445032.0</td>\n",
       "      <td>103667517.0</td>\n",
       "      <td>105959979.0</td>\n",
       "      <td>108336203.0</td>\n",
       "      <td>110798486.0</td>\n",
       "      <td>113319950.0</td>\n",
       "      <td>115921723.0</td>\n",
       "      <td>...</td>\n",
       "      <td>397855507</td>\n",
       "      <td>408690375</td>\n",
       "      <td>419778384</td>\n",
       "      <td>431138704</td>\n",
       "      <td>442646825</td>\n",
       "      <td>454306063</td>\n",
       "      <td>466189102</td>\n",
       "      <td>478185907</td>\n",
       "      <td>490330870</td>\n",
       "      <td>502789511</td>\n",
       "    </tr>\n",
       "    <tr>\n",
       "      <th>4</th>\n",
       "      <td>Angola</td>\n",
       "      <td>5357195.0</td>\n",
       "      <td>5441333.0</td>\n",
       "      <td>5521400.0</td>\n",
       "      <td>5599827.0</td>\n",
       "      <td>5673199.0</td>\n",
       "      <td>5736582.0</td>\n",
       "      <td>5787044.0</td>\n",
       "      <td>5827503.0</td>\n",
       "      <td>5868203.0</td>\n",
       "      <td>...</td>\n",
       "      <td>27128337</td>\n",
       "      <td>28127721</td>\n",
       "      <td>29154746</td>\n",
       "      <td>30208628</td>\n",
       "      <td>31273533</td>\n",
       "      <td>32353588</td>\n",
       "      <td>33428486</td>\n",
       "      <td>34503774</td>\n",
       "      <td>35588987</td>\n",
       "      <td>36684202</td>\n",
       "    </tr>\n",
       "  </tbody>\n",
       "</table>\n",
       "<p>5 rows × 65 columns</p>\n",
       "</div>"
      ],
      "text/plain": [
       "                  Country Name         1960         1961         1962  \\\n",
       "0                        Aruba      54608.0      55811.0      56682.0   \n",
       "1  Africa Eastern and Southern  130692579.0  134169237.0  137835590.0   \n",
       "2                  Afghanistan    8622466.0    8790140.0    8969047.0   \n",
       "3   Africa Western and Central   97256290.0   99314028.0  101445032.0   \n",
       "4                       Angola    5357195.0    5441333.0    5521400.0   \n",
       "\n",
       "          1963         1964         1965         1966         1967  \\\n",
       "0      57475.0      58178.0      58782.0      59291.0      59522.0   \n",
       "1  141630546.0  145605995.0  149742351.0  153955516.0  158313235.0   \n",
       "2    9157465.0    9355514.0    9565147.0    9783147.0   10010030.0   \n",
       "3  103667517.0  105959979.0  108336203.0  110798486.0  113319950.0   \n",
       "4    5599827.0    5673199.0    5736582.0    5787044.0    5827503.0   \n",
       "\n",
       "          1968  ...       2014       2015       2016       2017       2018  \\\n",
       "0      59471.0  ...     103594     104257     104874     105439     105962   \n",
       "1  162875171.0  ...  583651101  600008424  616377605  632746570  649757148   \n",
       "2   10247780.0  ...   32716210   33753499   34636207   35643418   36686784   \n",
       "3  115921723.0  ...  397855507  408690375  419778384  431138704  442646825   \n",
       "4    5868203.0  ...   27128337   28127721   29154746   30208628   31273533   \n",
       "\n",
       "        2019       2020       2021       2022       2023  \n",
       "0     106442     106585     106537     106445     106277  \n",
       "1  667242986  685112979  702977106  720859132  739108306  \n",
       "2   37769499   38972230   40099462   41128771   42239854  \n",
       "3  454306063  466189102  478185907  490330870  502789511  \n",
       "4   32353588   33428486   34503774   35588987   36684202  \n",
       "\n",
       "[5 rows x 65 columns]"
      ]
     },
     "execution_count": 94,
     "metadata": {},
     "output_type": "execute_result"
    }
   ],
   "source": [
    "world_pop_for_ts.head(5)"
   ]
  },
  {
   "cell_type": "code",
   "execution_count": 96,
   "id": "5e788cce-0e84-4287-8404-6a464c895845",
   "metadata": {},
   "outputs": [
    {
     "data": {
      "text/plain": [
       "Index(['Country Name', '1960', '1961', '1962', '1963', '1964', '1965', '1966',\n",
       "       '1967', '1968', '1969', '1970', '1971', '1972', '1973', '1974', '1975',\n",
       "       '1976', '1977', '1978', '1979', '1980', '1981', '1982', '1983', '1984',\n",
       "       '1985', '1986', '1987', '1988', '1989', '1990', '1991', '1992', '1993',\n",
       "       '1994', '1995', '1996', '1997', '1998', '1999', '2000', '2001', '2002',\n",
       "       '2003', '2004', '2005', '2006', '2007', '2008', '2009', '2010', '2011',\n",
       "       '2012', '2013', '2014', '2015', '2016', '2017', '2018', '2019', '2020',\n",
       "       '2021', '2022', '2023'],\n",
       "      dtype='object')"
      ]
     },
     "execution_count": 96,
     "metadata": {},
     "output_type": "execute_result"
    }
   ],
   "source": [
    "world_pop_for_ts.columns"
   ]
  },
  {
   "cell_type": "code",
   "execution_count": 98,
   "id": "dee43973-80f7-404e-877b-91202504aa52",
   "metadata": {},
   "outputs": [
    {
     "data": {
      "text/plain": [
       "array(['Aruba', 'Africa Eastern and Southern', 'Afghanistan',\n",
       "       'Africa Western and Central', 'Angola', 'Albania', 'Andorra',\n",
       "       'Arab World', 'United Arab Emirates', 'Argentina', 'Armenia',\n",
       "       'American Samoa', 'Antigua and Barbuda', 'Australia', 'Austria',\n",
       "       'Azerbaijan', 'Burundi', 'Belgium', 'Benin', 'Burkina Faso',\n",
       "       'Bangladesh', 'Bulgaria', 'Bahrain', 'Bahamas, The',\n",
       "       'Bosnia and Herzegovina', 'Belarus', 'Belize', 'Bermuda',\n",
       "       'Bolivia', 'Brazil', 'Barbados', 'Brunei Darussalam', 'Bhutan',\n",
       "       'Botswana', 'Central African Republic', 'Canada',\n",
       "       'Central Europe and the Baltics', 'Switzerland', 'Channel Islands',\n",
       "       'Chile', 'China', \"Cote d'Ivoire\", 'Cameroon', 'Congo, Dem. Rep.',\n",
       "       'Congo, Rep.', 'Colombia', 'Comoros', 'Cabo Verde', 'Costa Rica',\n",
       "       'Caribbean small states', 'Cuba', 'Curacao', 'Cayman Islands',\n",
       "       'Cyprus', 'Czechia', 'Germany', 'Djibouti', 'Dominica', 'Denmark',\n",
       "       'Dominican Republic', 'Algeria',\n",
       "       'East Asia & Pacific (excluding high income)',\n",
       "       'Early-demographic dividend', 'East Asia & Pacific',\n",
       "       'Europe & Central Asia (excluding high income)',\n",
       "       'Europe & Central Asia', 'Ecuador', 'Egypt, Arab Rep.',\n",
       "       'Euro area', 'Eritrea', 'Spain', 'Estonia', 'Ethiopia',\n",
       "       'European Union', 'Fragile and conflict affected situations',\n",
       "       'Finland', 'Fiji', 'France', 'Faroe Islands',\n",
       "       'Micronesia, Fed. Sts.', 'Gabon', 'United Kingdom', 'Georgia',\n",
       "       'Ghana', 'Gibraltar', 'Guinea', 'Gambia, The', 'Guinea-Bissau',\n",
       "       'Equatorial Guinea', 'Greece', 'Grenada', 'Greenland', 'Guatemala',\n",
       "       'Guam', 'Guyana', 'High income', 'Hong Kong SAR, China',\n",
       "       'Honduras', 'Heavily indebted poor countries (HIPC)', 'Croatia',\n",
       "       'Haiti', 'Hungary', 'IBRD only', 'IDA & IBRD total', 'IDA total',\n",
       "       'IDA blend', 'Indonesia', 'IDA only', 'Isle of Man', 'India',\n",
       "       'Ireland', 'Iran, Islamic Rep.', 'Iraq', 'Iceland', 'Israel',\n",
       "       'Italy', 'Jamaica', 'Jordan', 'Japan', 'Kazakhstan', 'Kenya',\n",
       "       'Kyrgyz Republic', 'Cambodia', 'Kiribati', 'St. Kitts and Nevis',\n",
       "       'Korea, Rep.', 'Kuwait',\n",
       "       'Latin America & Caribbean (excluding high income)', 'Lao PDR',\n",
       "       'Lebanon', 'Liberia', 'Libya', 'St. Lucia',\n",
       "       'Latin America & Caribbean',\n",
       "       'Least developed countries: UN classification', 'Low income',\n",
       "       'Liechtenstein', 'Sri Lanka', 'Lower middle income',\n",
       "       'Low & middle income', 'Lesotho', 'Late-demographic dividend',\n",
       "       'Lithuania', 'Luxembourg', 'Latvia', 'Macao SAR, China',\n",
       "       'St. Martin (French part)', 'Morocco', 'Monaco', 'Moldova',\n",
       "       'Madagascar', 'Maldives', 'Middle East & North Africa', 'Mexico',\n",
       "       'Marshall Islands', 'Middle income', 'North Macedonia', 'Mali',\n",
       "       'Malta', 'Myanmar',\n",
       "       'Middle East & North Africa (excluding high income)', 'Montenegro',\n",
       "       'Mongolia', 'Northern Mariana Islands', 'Mozambique', 'Mauritania',\n",
       "       'Mauritius', 'Malawi', 'Malaysia', 'North America', 'Namibia',\n",
       "       'New Caledonia', 'Niger', 'Nigeria', 'Nicaragua', 'Netherlands',\n",
       "       'Norway', 'Nepal', 'Nauru', 'New Zealand', 'OECD members', 'Oman',\n",
       "       'Other small states', 'Pakistan', 'Panama', 'Peru', 'Philippines',\n",
       "       'Palau', 'Papua New Guinea', 'Poland', 'Pre-demographic dividend',\n",
       "       'Puerto Rico', \"Korea, Dem. People's Rep.\", 'Portugal', 'Paraguay',\n",
       "       'West Bank and Gaza', 'Pacific island small states',\n",
       "       'Post-demographic dividend', 'French Polynesia', 'Qatar',\n",
       "       'Romania', 'Russian Federation', 'Rwanda', 'South Asia',\n",
       "       'Saudi Arabia', 'Sudan', 'Senegal', 'Singapore', 'Solomon Islands',\n",
       "       'Sierra Leone', 'El Salvador', 'San Marino', 'Somalia', 'Serbia',\n",
       "       'Sub-Saharan Africa (excluding high income)', 'South Sudan',\n",
       "       'Sub-Saharan Africa', 'Small states', 'Sao Tome and Principe',\n",
       "       'Suriname', 'Slovak Republic', 'Slovenia', 'Sweden', 'Eswatini',\n",
       "       'Sint Maarten (Dutch part)', 'Seychelles', 'Syrian Arab Republic',\n",
       "       'Turks and Caicos Islands', 'Chad',\n",
       "       'East Asia & Pacific (IDA & IBRD countries)',\n",
       "       'Europe & Central Asia (IDA & IBRD countries)', 'Togo', 'Thailand',\n",
       "       'Tajikistan', 'Turkmenistan',\n",
       "       'Latin America & the Caribbean (IDA & IBRD countries)',\n",
       "       'Timor-Leste', 'Middle East & North Africa (IDA & IBRD countries)',\n",
       "       'Tonga', 'South Asia (IDA & IBRD)',\n",
       "       'Sub-Saharan Africa (IDA & IBRD countries)', 'Trinidad and Tobago',\n",
       "       'Tunisia', 'Turkiye', 'Tuvalu', 'Tanzania', 'Uganda', 'Ukraine',\n",
       "       'Upper middle income', 'Uruguay', 'United States', 'Uzbekistan',\n",
       "       'St. Vincent and the Grenadines', 'Venezuela, RB',\n",
       "       'British Virgin Islands', 'Virgin Islands (U.S.)', 'Viet Nam',\n",
       "       'Vanuatu', 'World', 'Samoa', 'Kosovo', 'Yemen, Rep.',\n",
       "       'South Africa', 'Zambia', 'Zimbabwe'], dtype=object)"
      ]
     },
     "execution_count": 98,
     "metadata": {},
     "output_type": "execute_result"
    }
   ],
   "source": [
    "world_pop_for_ts['Country Name'].unique()"
   ]
  },
  {
   "cell_type": "code",
   "execution_count": 100,
   "id": "a182844c-8877-421e-9d5c-431e9aa29e82",
   "metadata": {},
   "outputs": [
    {
     "data": {
      "text/plain": [
       "pandas.core.frame.DataFrame"
      ]
     },
     "execution_count": 100,
     "metadata": {},
     "output_type": "execute_result"
    }
   ],
   "source": [
    "type(world_pop_for_ts)"
   ]
  },
  {
   "cell_type": "code",
   "execution_count": 102,
   "id": "2473b9d5-ac3a-4603-bfac-7a3f6b08693b",
   "metadata": {},
   "outputs": [
    {
     "data": {
      "text/plain": [
       "(265, 65)"
      ]
     },
     "execution_count": 102,
     "metadata": {},
     "output_type": "execute_result"
    }
   ],
   "source": [
    "world_pop_for_ts.shape"
   ]
  },
  {
   "cell_type": "code",
   "execution_count": 104,
   "id": "c5a706ad-50c1-4bbc-a37d-9237f0bed2e1",
   "metadata": {},
   "outputs": [],
   "source": [
    "pop_OECD = world_pop_for_ts[world_pop_for_ts['Country Name'] == 'OECD members']"
   ]
  },
  {
   "cell_type": "code",
   "execution_count": 106,
   "id": "7b6afe7a-4482-4cac-baa7-0eb3d9e976ab",
   "metadata": {},
   "outputs": [
    {
     "data": {
      "image/png": "[encoded data removed]",
      "text/plain": [
       "<Figure size 1500x500 with 1 Axes>"
      ]
     },
     "metadata": {},
     "output_type": "display_data"
    }
   ],
   "source": [
    "from matplotlib.ticker import FuncFormatter  # importing a formatter\n",
    "\n",
    "# Melting the DataFrame\n",
    "pop_OECD = pop_OECD.melt(id_vars=['Country Name'], var_name='Year', value_name='Population')\n",
    "\n",
    "# Convert the 'Year' column to datetime\n",
    "pop_OECD['Year'] = pd.to_datetime(pop_OECD['Year'], format='%Y')\n",
    "\n",
    "# Define a formatter to convert population to millions\n",
    "def millions(x, pos):\n",
    "    return '%1.1fM' % (x * 1e-6)\n",
    "\n",
    "formatter = FuncFormatter(millions)\n",
    "\n",
    "# Plot the data\n",
    "plt.figure(figsize=(15, 5), dpi=100)\n",
    "plt.plot(pop_OECD['Year'], pop_OECD['Population'], label='Population (in millions)')\n",
    "\n",
    "# Apply the formatter to the y-axis\n",
    "plt.gca().yaxis.set_major_formatter(formatter)\n",
    "\n",
    "# Formatting the plot\n",
    "plt.title('Population Over Time in OECD Countries')\n",
    "plt.xlabel('Year')\n",
    "plt.ylabel('Population (in millions)')\n",
    "plt.legend()\n",
    "plt.grid(True)\n",
    "\n",
    "# Display the plot\n",
    "plt.show()"
   ]
  },
  {
   "cell_type": "markdown",
   "id": "c80aeabd-822c-44b3-ad24-925fb1409ce3",
   "metadata": {},
   "source": [
    "## Data wrangling for OECD members dataframe"
   ]
  },
  {
   "cell_type": "code",
   "execution_count": 217,
   "id": "5fefed5f-62e1-4273-89b9-4f12516a1587",
   "metadata": {},
   "outputs": [
    {
     "data": {
      "text/html": [
       "<div>\n",
       "<style scoped>\n",
       "    .dataframe tbody tr th:only-of-type {\n",
       "        vertical-align: middle;\n",
       "    }\n",
       "\n",
       "    .dataframe tbody tr th {\n",
       "        vertical-align: top;\n",
       "    }\n",
       "\n",
       "    .dataframe thead th {\n",
       "        text-align: right;\n",
       "    }\n",
       "</style>\n",
       "<table border=\"1\" class=\"dataframe\">\n",
       "  <thead>\n",
       "    <tr style=\"text-align: right;\">\n",
       "      <th></th>\n",
       "      <th>Year</th>\n",
       "      <th>OECD population</th>\n",
       "    </tr>\n",
       "  </thead>\n",
       "  <tbody>\n",
       "    <tr>\n",
       "      <th>0</th>\n",
       "      <td>1960</td>\n",
       "      <td>8.076309e+08</td>\n",
       "    </tr>\n",
       "    <tr>\n",
       "      <th>1</th>\n",
       "      <td>1961</td>\n",
       "      <td>8.188321e+08</td>\n",
       "    </tr>\n",
       "    <tr>\n",
       "      <th>2</th>\n",
       "      <td>1962</td>\n",
       "      <td>8.302891e+08</td>\n",
       "    </tr>\n",
       "    <tr>\n",
       "      <th>3</th>\n",
       "      <td>1963</td>\n",
       "      <td>8.417223e+08</td>\n",
       "    </tr>\n",
       "    <tr>\n",
       "      <th>4</th>\n",
       "      <td>1964</td>\n",
       "      <td>8.532007e+08</td>\n",
       "    </tr>\n",
       "    <tr>\n",
       "      <th>...</th>\n",
       "      <td>...</td>\n",
       "      <td>...</td>\n",
       "    </tr>\n",
       "    <tr>\n",
       "      <th>59</th>\n",
       "      <td>2019</td>\n",
       "      <td>1.362032e+09</td>\n",
       "    </tr>\n",
       "    <tr>\n",
       "      <th>60</th>\n",
       "      <td>2020</td>\n",
       "      <td>1.369502e+09</td>\n",
       "    </tr>\n",
       "    <tr>\n",
       "      <th>61</th>\n",
       "      <td>2021</td>\n",
       "      <td>1.371973e+09</td>\n",
       "    </tr>\n",
       "    <tr>\n",
       "      <th>62</th>\n",
       "      <td>2022</td>\n",
       "      <td>1.377466e+09</td>\n",
       "    </tr>\n",
       "    <tr>\n",
       "      <th>63</th>\n",
       "      <td>2023</td>\n",
       "      <td>1.385006e+09</td>\n",
       "    </tr>\n",
       "  </tbody>\n",
       "</table>\n",
       "<p>64 rows × 2 columns</p>\n",
       "</div>"
      ],
      "text/plain": [
       "    Year  OECD population\n",
       "0   1960     8.076309e+08\n",
       "1   1961     8.188321e+08\n",
       "2   1962     8.302891e+08\n",
       "3   1963     8.417223e+08\n",
       "4   1964     8.532007e+08\n",
       "..   ...              ...\n",
       "59  2019     1.362032e+09\n",
       "60  2020     1.369502e+09\n",
       "61  2021     1.371973e+09\n",
       "62  2022     1.377466e+09\n",
       "63  2023     1.385006e+09\n",
       "\n",
       "[64 rows x 2 columns]"
      ]
     },
     "execution_count": 217,
     "metadata": {},
     "output_type": "execute_result"
    }
   ],
   "source": [
    "# Filter the DataFrame for the OECD members\n",
    "world_pop_oecd = world_pop_for_ts[world_pop_for_ts['Country Name'] == 'OECD members']\n",
    "\n",
    "# Remove the 'Country Name' column before melting\n",
    "world_pop_oecd_numeric = world_pop_oecd.drop(columns=['Country Name'])\n",
    "\n",
    "# Step 2: Melt the DataFrame to reshape it\n",
    "world_pop_oecd_melted = world_pop_oecd_numeric.melt(var_name='Year', value_name='OECD population')\n",
    "\n",
    "# Step 3: Ensure 'Year' column is properly formatted\n",
    "# Convert 'Year' column to numeric, forcing errors to NaN and then drop rows with NaN in 'Year'\n",
    "world_pop_oecd_melted['Year'] = pd.to_numeric(world_pop_oecd_melted['Year'], errors='coerce')\n",
    "\n",
    "# Drop rows where 'Year' is NaN (if any)\n",
    "world_pop_oecd_melted = world_pop_oecd_melted.dropna(subset=['Year'])\n",
    "\n",
    "# Convert 'Year' column to integer (if you prefer)\n",
    "world_pop_oecd_melted['Year'] = world_pop_oecd_melted['Year'].astype(int)\n",
    "\n",
    "# Reset index if needed (optional)\n",
    "world_pop_oecd_melted.reset_index(drop=True, inplace=True)\n",
    "\n",
    "world_pop_oecd_melted"
   ]
  },
  {
   "cell_type": "markdown",
   "id": "217633ab-244c-4ca6-84c5-62d34700bdff",
   "metadata": {},
   "source": [
    "## Time series analysis: decomposition"
   ]
  },
  {
   "cell_type": "code",
   "execution_count": 220,
   "id": "a474f4ec-f475-4453-92de-44743cae93c1",
   "metadata": {},
   "outputs": [
    {
     "data": {
      "text/plain": [
       "Index(['Year', 'OECD population'], dtype='object')"
      ]
     },
     "execution_count": 220,
     "metadata": {},
     "output_type": "execute_result"
    }
   ],
   "source": [
    "world_pop_oecd_melted.columns"
   ]
  },
  {
   "cell_type": "code",
   "execution_count": 222,
   "id": "a8306de6-70b5-4be1-9561-814ed7cd9e2c",
   "metadata": {},
   "outputs": [
    {
     "data": {
      "text/html": [
       "<div>\n",
       "<style scoped>\n",
       "    .dataframe tbody tr th:only-of-type {\n",
       "        vertical-align: middle;\n",
       "    }\n",
       "\n",
       "    .dataframe tbody tr th {\n",
       "        vertical-align: top;\n",
       "    }\n",
       "\n",
       "    .dataframe thead th {\n",
       "        text-align: right;\n",
       "    }\n",
       "</style>\n",
       "<table border=\"1\" class=\"dataframe\">\n",
       "  <thead>\n",
       "    <tr style=\"text-align: right;\">\n",
       "      <th></th>\n",
       "      <th>OECD population</th>\n",
       "    </tr>\n",
       "    <tr>\n",
       "      <th>Year</th>\n",
       "      <th></th>\n",
       "    </tr>\n",
       "  </thead>\n",
       "  <tbody>\n",
       "    <tr>\n",
       "      <th>1960</th>\n",
       "      <td>8.076309e+08</td>\n",
       "    </tr>\n",
       "    <tr>\n",
       "      <th>1961</th>\n",
       "      <td>8.188321e+08</td>\n",
       "    </tr>\n",
       "    <tr>\n",
       "      <th>1962</th>\n",
       "      <td>8.302891e+08</td>\n",
       "    </tr>\n",
       "    <tr>\n",
       "      <th>1963</th>\n",
       "      <td>8.417223e+08</td>\n",
       "    </tr>\n",
       "    <tr>\n",
       "      <th>1964</th>\n",
       "      <td>8.532007e+08</td>\n",
       "    </tr>\n",
       "    <tr>\n",
       "      <th>...</th>\n",
       "      <td>...</td>\n",
       "    </tr>\n",
       "    <tr>\n",
       "      <th>2019</th>\n",
       "      <td>1.362032e+09</td>\n",
       "    </tr>\n",
       "    <tr>\n",
       "      <th>2020</th>\n",
       "      <td>1.369502e+09</td>\n",
       "    </tr>\n",
       "    <tr>\n",
       "      <th>2021</th>\n",
       "      <td>1.371973e+09</td>\n",
       "    </tr>\n",
       "    <tr>\n",
       "      <th>2022</th>\n",
       "      <td>1.377466e+09</td>\n",
       "    </tr>\n",
       "    <tr>\n",
       "      <th>2023</th>\n",
       "      <td>1.385006e+09</td>\n",
       "    </tr>\n",
       "  </tbody>\n",
       "</table>\n",
       "<p>64 rows × 1 columns</p>\n",
       "</div>"
      ],
      "text/plain": [
       "      OECD population\n",
       "Year                 \n",
       "1960     8.076309e+08\n",
       "1961     8.188321e+08\n",
       "1962     8.302891e+08\n",
       "1963     8.417223e+08\n",
       "1964     8.532007e+08\n",
       "...               ...\n",
       "2019     1.362032e+09\n",
       "2020     1.369502e+09\n",
       "2021     1.371973e+09\n",
       "2022     1.377466e+09\n",
       "2023     1.385006e+09\n",
       "\n",
       "[64 rows x 1 columns]"
      ]
     },
     "execution_count": 222,
     "metadata": {},
     "output_type": "execute_result"
    }
   ],
   "source": [
    "# Set 'Year' as the index\n",
    "world_pop_oecd_melted.set_index('Year', inplace=True)\n",
    "\n",
    "# Convert the index to a PeriodIndex with yearly frequency\n",
    "world_pop_oecd_melted.index = pd.PeriodIndex(world_pop_oecd_melted.index, freq='Y')\n",
    "\n",
    "world_pop_oecd_melted"
   ]
  },
  {
   "cell_type": "markdown",
   "id": "73387f5e-2229-4ab4-a522-68807084cb9b",
   "metadata": {},
   "source": [
    "## Testing for stationarity"
   ]
  },
  {
   "cell_type": "code",
   "execution_count": 229,
   "id": "d956d6bc-38d8-4eac-85ae-fe8b71928efb",
   "metadata": {},
   "outputs": [
    {
     "name": "stdout",
     "output_type": "stream",
     "text": [
      "Dickey-Fuller Stationarity test:\n",
      "Test Statistic                 -3.069499\n",
      "p-value                         0.028894\n",
      "Number of Lags Used             1.000000\n",
      "Number of Observations Used    62.000000\n",
      "Critical Value (1%)            -3.540523\n",
      "Critical Value (5%)            -2.909427\n",
      "Critical Value (10%)           -2.592314\n",
      "dtype: float64\n"
     ]
    }
   ],
   "source": [
    "# The adfuller() function will import from the model from statsmodels for the test; however, running it will only return \n",
    "# an array of numbers. This is why you need to also define a function that prints the correct output from that array.\n",
    "\n",
    "from statsmodels.tsa.stattools import adfuller # Import the adfuller() function\n",
    "\n",
    "def dickey_fuller(timeseries): # Define the function\n",
    "    # Perform the Dickey-Fuller test:\n",
    "    print ('Dickey-Fuller Stationarity test:')\n",
    "    test = adfuller(timeseries, autolag='AIC')\n",
    "    result = pd.Series(test[0:4], index=['Test Statistic','p-value','Number of Lags Used','Number of Observations Used'])\n",
    "    for key,value in test[4].items():\n",
    "       result['Critical Value (%s)'%key] = value\n",
    "    print (result)\n",
    "\n",
    "# Apply the test using the function on the time series\n",
    "dickey_fuller(world_pop_oecd_melted['OECD population'])"
   ]
  },
  {
   "cell_type": "code",
   "execution_count": 231,
   "id": "7aba3f0e-e717-4a60-8039-bfad12480919",
   "metadata": {},
   "outputs": [
    {
     "data": {
      "image/png": "[encoded data removed]",
      "text/plain": [
       "<Figure size 640x480 with 1 Axes>"
      ]
     },
     "metadata": {},
     "output_type": "display_data"
    }
   ],
   "source": [
    "# Check out a plot of autocorrelations\n",
    "\n",
    "from statsmodels.graphics.tsaplots import plot_acf, plot_pacf # Here, you import the autocorrelation and partial correlation plots\n",
    "\n",
    "plot_acf(world_pop_oecd_melted)\n",
    "plt.show()"
   ]
  },
  {
   "cell_type": "markdown",
   "id": "0f7f6361-d64e-40f7-b0ae-5ec78682fd5a",
   "metadata": {},
   "source": [
    "## Stationarizing the Population of the OECD"
   ]
  },
  {
   "cell_type": "code",
   "execution_count": 236,
   "id": "5ae8588f-291f-480b-99a2-d207a5a2016b",
   "metadata": {},
   "outputs": [],
   "source": [
    "world_pop_data_diff = world_pop_oecd_melted - world_pop_oecd_melted.shift(1) # The df.shift(1) function turns the observation to t-1, making the whole thing t - (t -1)"
   ]
  },
  {
   "cell_type": "code",
   "execution_count": 242,
   "id": "2c97b293-54e4-4c67-a2e0-bd6333861464",
   "metadata": {},
   "outputs": [],
   "source": [
    "world_pop_data_diff.dropna(inplace = True) # Here, you remove the missing values that came about as a result of the differencing. \n",
    "# You need to remove these or you won't be able to run the Dickey-Fuller test."
   ]
  },
  {
   "cell_type": "code",
   "execution_count": 244,
   "id": "1ad9cc3e-fdc1-4847-97ad-641a972d0984",
   "metadata": {},
   "outputs": [
    {
     "data": {
      "text/html": [
       "<div>\n",
       "<style scoped>\n",
       "    .dataframe tbody tr th:only-of-type {\n",
       "        vertical-align: middle;\n",
       "    }\n",
       "\n",
       "    .dataframe tbody tr th {\n",
       "        vertical-align: top;\n",
       "    }\n",
       "\n",
       "    .dataframe thead th {\n",
       "        text-align: right;\n",
       "    }\n",
       "</style>\n",
       "<table border=\"1\" class=\"dataframe\">\n",
       "  <thead>\n",
       "    <tr style=\"text-align: right;\">\n",
       "      <th></th>\n",
       "      <th>OECD population</th>\n",
       "    </tr>\n",
       "    <tr>\n",
       "      <th>Year</th>\n",
       "      <th></th>\n",
       "    </tr>\n",
       "  </thead>\n",
       "  <tbody>\n",
       "    <tr>\n",
       "      <th>1961</th>\n",
       "      <td>11201207.0</td>\n",
       "    </tr>\n",
       "    <tr>\n",
       "      <th>1962</th>\n",
       "      <td>11456986.0</td>\n",
       "    </tr>\n",
       "    <tr>\n",
       "      <th>1963</th>\n",
       "      <td>11433175.0</td>\n",
       "    </tr>\n",
       "    <tr>\n",
       "      <th>1964</th>\n",
       "      <td>11478420.0</td>\n",
       "    </tr>\n",
       "    <tr>\n",
       "      <th>1965</th>\n",
       "      <td>11203396.0</td>\n",
       "    </tr>\n",
       "  </tbody>\n",
       "</table>\n",
       "</div>"
      ],
      "text/plain": [
       "      OECD population\n",
       "Year                 \n",
       "1961       11201207.0\n",
       "1962       11456986.0\n",
       "1963       11433175.0\n",
       "1964       11478420.0\n",
       "1965       11203396.0"
      ]
     },
     "execution_count": 244,
     "metadata": {},
     "output_type": "execute_result"
    }
   ],
   "source": [
    "world_pop_data_diff.head()"
   ]
  },
  {
   "cell_type": "code",
   "execution_count": 246,
   "id": "b5a216ce-f46a-4f85-99db-ed4a405b8fe6",
   "metadata": {},
   "outputs": [
    {
     "data": {
      "text/plain": [
       "Index(['OECD population'], dtype='object')"
      ]
     },
     "execution_count": 246,
     "metadata": {},
     "output_type": "execute_result"
    }
   ],
   "source": [
    "world_pop_data_diff.columns"
   ]
  },
  {
   "cell_type": "code",
   "execution_count": 250,
   "id": "751ba1a0-dc06-4faf-926a-1ac8e8ca432e",
   "metadata": {},
   "outputs": [
    {
     "name": "stdout",
     "output_type": "stream",
     "text": [
      "Dickey-Fuller Stationarity test:\n",
      "Test Statistic                 -2.640997\n",
      "p-value                         0.084817\n",
      "Number of Lags Used             0.000000\n",
      "Number of Observations Used    62.000000\n",
      "Critical Value (1%)            -3.540523\n",
      "Critical Value (5%)            -2.909427\n",
      "Critical Value (10%)           -2.592314\n",
      "dtype: float64\n"
     ]
    }
   ],
   "source": [
    "dickey_fuller(world_pop_data_diff)"
   ]
  },
  {
   "cell_type": "code",
   "execution_count": 252,
   "id": "031a9f43-e265-48e7-bd40-7317eaa34fbe",
   "metadata": {},
   "outputs": [
    {
     "data": {
      "image/png": "[encoded data removed]",
      "text/plain": [
       "<Figure size 640x480 with 1 Axes>"
      ]
     },
     "metadata": {},
     "output_type": "display_data"
    }
   ],
   "source": [
    "plot_acf(world_pop_data_diff)\n",
    "plt.show()"
   ]
  },
  {
   "cell_type": "markdown",
   "id": "05a8df0e-ea23-4952-be77-5e135b98d0a0",
   "metadata": {},
   "source": [
    "## Answers to the questions"
   ]
  },
  {
   "cell_type": "markdown",
   "id": "258bdcda-4d0d-4237-b85e-fb3314b2feeb",
   "metadata": {},
   "source": [
    "The first test (before stationarizing), suggests that the series might be stationary, but the evidence was not strong enough to conclusively reject the null hypothesis at the 5% level. Since the Test Statistic (-3.069499) is less negative than the critical value at 5% (-2.909427), it fails to reject the null hypothesis at the 5% significance level. Also, with a p-value (0.028894) that is less than 0.05, suggest that we can reject the null hypothesis at 5% level and that this means the timer-series is likely stationary.\n",
    "\n",
    "\n",
    "The second test (after stationarizing), it seems tha the series is most likely stationary but only at the 10% level. The results, with a p-value at (0.08417) that is less than 0.1, meaning that we can only reject the null hypothesis at the 10% level. \n",
    "So we can say tha the stationarizing method used improved the stationarity but did not achieve it perfectly.\n",
    "\n",
    "Since this time-series data is related to populations indicators, they often exhibit a certain trend (mainly increasing over the years). A times-series with a trend might not be stationary if the mean is changing over time. \n",
    "\n",
    "We would need to check other method or techniques to ensure that this time series meets the stationarity requirements to build a model."
   ]
  },
  {
   "cell_type": "code",
   "execution_count": null,
   "id": "5a41fd04-71bd-44e7-a986-f98ee0f95b86",
   "metadata": {},
   "outputs": [],
   "source": []
  }
 ],
 "metadata": {
  "kernelspec": {
   "display_name": "Python 3 (ipykernel)",
   "language": "python",
   "name": "python3"
  },
  "language_info": {
   "codemirror_mode": {
    "name": "ipython",
    "version": 3
   },
   "file_extension": ".py",
   "mimetype": "text/x-python",
   "name": "python",
   "nbconvert_exporter": "python",
   "pygments_lexer": "ipython3",
   "version": "3.11.7"
  }
 },
 "nbformat": 4,
 "nbformat_minor": 5
}
